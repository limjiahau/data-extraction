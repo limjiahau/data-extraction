{
  "nbformat": 4,
  "nbformat_minor": 0,
  "metadata": {
    "colab": {
      "provenance": []
    },
    "kernelspec": {
      "name": "python3",
      "display_name": "Python 3"
    },
    "language_info": {
      "name": "python"
    }
  },
  "cells": [
    {
      "cell_type": "code",
      "execution_count": null,
      "metadata": {
        "id": "Cr1Nlks5wpvJ"
      },
      "outputs": [],
      "source": [
        "!pip install psycopg2\n",
        "import psycopg2 as ps\n",
        "import pandas as pd"
      ]
    },
    {
      "cell_type": "code",
      "source": [
        "# upload your CSV files here\n",
        "df = pd.read_csv('youtube_vids_1st_pull.csv', index_col=0) \n",
        "df.head()"
      ],
      "metadata": {
        "id": "634A0JVQwwut"
      },
      "execution_count": null,
      "outputs": []
    },
    {
      "cell_type": "code",
      "source": [
        "def connect_to_db(host_name, dbname, port, username, password):\n",
        "    try:\n",
        "        conn = ps.connect(host=host_name, database=dbname, user=username, password=password, port=port)\n",
        "\n",
        "    except ps.OperationalError as e:\n",
        "        raise e\n",
        "    else:\n",
        "        print('Connected!')\n",
        "        return conn\n",
        "\n",
        "def create_table(curr):\n",
        "    create_table_command = (\"\"\"CREATE TABLE IF NOT EXISTS videos (\n",
        "                    video_id VARCHAR(255) PRIMARY KEY,\n",
        "                    video_title TEXT NOT NULL,\n",
        "                    upload_date DATE NOT NULL DEFAULT CURRENT_DATE,\n",
        "                    view_count INTEGER NOT NULL,\n",
        "                    like_count INTEGER NOT NULL,\n",
        "                    dislike_count INTEGER NOT NULL,\n",
        "                    comment_count INTEGER NOT NULL\n",
        "            )\"\"\")\n",
        "\n",
        "    curr.execute(create_table_command)\n",
        "\n",
        "def insert_into_table(curr, video_id, video_title, upload_date, view_count, like_count, dislike_count, comment_count):\n",
        "    insert_into_videos = (\"\"\"INSERT INTO videos (video_id, video_title, upload_date,\n",
        "                        view_count, like_count, dislike_count,comment_count)\n",
        "    VALUES(%s,%s,%s,%s,%s,%s,%s);\"\"\")\n",
        "    row_to_insert = (video_id, video_title, upload_date, view_count, like_count, dislike_count, comment_count)\n",
        "    curr.execute(insert_into_videos, row_to_insert)\n",
        "\n",
        "\n",
        "def update_row(curr, video_id, video_title, view_count, like_count, dislike_count, comment_count):\n",
        "    query = (\"\"\"UPDATE videos\n",
        "            SET video_title = %s,\n",
        "                view_count = %s,\n",
        "                like_count = %s,\n",
        "                dislike_count = %s,\n",
        "                comment_count = %s\n",
        "            WHERE video_id = %s;\"\"\")\n",
        "    vars_to_update = (video_title, view_count, like_count, dislike_count, comment_count, video_id)\n",
        "    curr.execute(query, vars_to_update)\n",
        "\n",
        "\n",
        "def check_if_video_exists(curr, video_id): \n",
        "    query = (\"\"\"SELECT video_id FROM VIDEOS WHERE video_id = %s\"\"\")\n",
        "\n",
        "    curr.execute(query, (video_id,))\n",
        "    return curr.fetchone() is not None\n",
        "\n",
        "\n",
        "\n",
        "def truncate_table(curr):\n",
        "    truncate_table = (\"\"\"TRUNCATE TABLE videos\"\"\")\n",
        "\n",
        "    curr.execute(truncate_table)\n",
        "\n",
        "\n",
        "def append_from_df_to_db(curr,df):\n",
        "    for i, row in df.iterrows():\n",
        "        insert_into_table(curr, row['video_id'], row['video_title'], row['upload_date'], row['view_count']\n",
        "                          , row['like_count'], row['dislike_count'], row['comment_count'])\n",
        "\n",
        "\n",
        "def update_db(curr,df):\n",
        "    tmp_df = pd.DataFrame(columns=['video_id', 'video_title', 'upload_date', 'view_count',\n",
        "                                   'like_count', 'dislike_count', 'comment_count'])\n",
        "    for i, row in df.iterrows():\n",
        "        if check_if_video_exists(curr, row['video_id']): # If video already exists then we will update\n",
        "            update_row(curr,row['video_id'],row['video_title'],row['view_count'],row['like_count'],row['dislike_count'],row['comment_count'])\n",
        "        else: # The video doesn't exists so we will add it to a temp df and append it using append_from_df_to_db\n",
        "            tmp_df = tmp_df.append(row)\n",
        "\n",
        "    return tmp_df"
      ],
      "metadata": {
        "id": "WmOj8kpRw7Xe"
      },
      "execution_count": 5,
      "outputs": []
    },
    {
      "cell_type": "code",
      "source": [
        "# Main\n",
        "\n",
        "# database credentials\n",
        "host_name = 'xxxxxxxxx.rds.amazonaws.com'\n",
        "dbname = 'xxxxx'\n",
        "port = '5432'\n",
        "username = 'xxxx' \n",
        "password = 'xxxxxxx'\n",
        "conn = None\n",
        "\n",
        "# establish a connection to db\n",
        "conn = connect_to_db(host_name, dbname, port, username, password)\n",
        "curr = conn.cursor()"
      ],
      "metadata": {
        "id": "Qh6eg5uozoNO"
      },
      "execution_count": null,
      "outputs": []
    },
    {
      "cell_type": "code",
      "source": [
        "# create table\n",
        "\n",
        "create_table(curr)"
      ],
      "metadata": {
        "id": "lCPhf6q6zpYO"
      },
      "execution_count": null,
      "outputs": []
    },
    {
      "cell_type": "code",
      "source": [
        "# update data for existing videos\n",
        "\n",
        "new_vid_df = update_db(curr,df)\n",
        "conn.commit()"
      ],
      "metadata": {
        "id": "j7_-xcOIzsdW"
      },
      "execution_count": null,
      "outputs": []
    },
    {
      "cell_type": "code",
      "source": [
        "# insert new videos into db table\n",
        "\n",
        "append_from_df_to_db(curr, new_vid_df)\n",
        "conn.commit()"
      ],
      "metadata": {
        "id": "2a3saB7BzysG"
      },
      "execution_count": null,
      "outputs": []
    },
    {
      "cell_type": "code",
      "source": [
        "# view data in db table\n",
        "\n",
        "curr.execute(\"SELECT * FROM VIDEOS\")\n",
        "print(curr.fetchall()) "
      ],
      "metadata": {
        "id": "FlX0jxUUz1nL"
      },
      "execution_count": null,
      "outputs": []
    }
  ]
}